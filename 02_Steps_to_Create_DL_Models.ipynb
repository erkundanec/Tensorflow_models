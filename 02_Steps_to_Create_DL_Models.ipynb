{
 "cells": [
  {
   "cell_type": "markdown",
   "id": "908c4b94",
   "metadata": {},
   "source": [
    "# Creating a Deep Learning Models"
   ]
  },
  {
   "cell_type": "markdown",
   "id": "0bec0fbd",
   "metadata": {},
   "source": [
    "There are five step involved in create any DL models.\n",
    "1. Define the model.\n",
    "2. Compile the model.\n",
    "3. Fit the model.\n",
    "4. Evaluate the model.\n",
    "5. Make predictions.\n",
    "\n",
    "and there are two tf.keras APIs to define the model\n",
    "1. Sequential\n",
    "2. Functional\n",
    "\n",
    "Sequential model API is simplest way to create any model."
   ]
  },
  {
   "cell_type": "markdown",
   "id": "c4919f55",
   "metadata": {},
   "source": [
    "## Sequential model API"
   ]
  },
  {
   "cell_type": "code",
   "execution_count": 2,
   "id": "6a065b21",
   "metadata": {},
   "outputs": [],
   "source": [
    "from tensorflow.keras import Sequential\n",
    "from tensorflow.keras.layers import Dense\n",
    "\n",
    "# define the model\n",
    "model = Sequential()\n",
    "model.add(Dense(10, input_shape=(8,)))\n",
    "model.add(Dense(1))"
   ]
  },
  {
   "cell_type": "markdown",
   "id": "d1aad210",
   "metadata": {},
   "source": [
    "We can add more layers by using model.add() in sequential"
   ]
  },
  {
   "cell_type": "code",
   "execution_count": 3,
   "id": "1a059585",
   "metadata": {},
   "outputs": [],
   "source": [
    "from tensorflow.keras import Sequential\n",
    "from tensorflow.keras.layers import Dense\n",
    "\n",
    "# define the model\n",
    "model = Sequential()\n",
    "model.add(Dense(100, input_shape=(8,)))\n",
    "model.add(Dense(80))\n",
    "model.add(Dense(30))\n",
    "model.add(Dense(10))\n",
    "model.add(Dense(5))\n",
    "model.add(Dense(1))"
   ]
  },
  {
   "cell_type": "markdown",
   "id": "b0a0a5a4",
   "metadata": {},
   "source": [
    "## Funcational model API\n",
    "The functional API is more complex but is also more flexible."
   ]
  },
  {
   "cell_type": "code",
   "execution_count": 5,
   "id": "f1ab0196",
   "metadata": {},
   "outputs": [],
   "source": [
    "from tensorflow.keras import Model\n",
    "from tensorflow.keras import Input\n",
    "from tensorflow.keras.layers import Dense\n",
    "\n",
    "# define the layers\n",
    "x_in = Input(shape=(8,))\n",
    "x = Dense(10)(x_in)\n",
    "x_out = Dense(1)(x)\n",
    "\n",
    "# define the model\n",
    "model = Model(inputs=x_in, outputs=x_out)"
   ]
  },
  {
   "cell_type": "markdown",
   "id": "ba0b6715",
   "metadata": {},
   "source": [
    "As such, it allows for more complicated model designs, such as models that may have multiple input paths (separate vectors) and models that have multiple output paths (e.g. a word and a number)."
   ]
  },
  {
   "cell_type": "code",
   "execution_count": null,
   "id": "178b38a2",
   "metadata": {},
   "outputs": [],
   "source": []
  }
 ],
 "metadata": {
  "kernelspec": {
   "display_name": "Python 3 (ipykernel)",
   "language": "python",
   "name": "python3"
  },
  "language_info": {
   "codemirror_mode": {
    "name": "ipython",
    "version": 3
   },
   "file_extension": ".py",
   "mimetype": "text/x-python",
   "name": "python",
   "nbconvert_exporter": "python",
   "pygments_lexer": "ipython3",
   "version": "3.8.12"
  }
 },
 "nbformat": 4,
 "nbformat_minor": 5
}
